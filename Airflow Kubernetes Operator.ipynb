{
 "cells": [
  {
   "cell_type": "markdown",
   "metadata": {},
   "source": [
    "# TITLE: The Kubernetes \"Whatever-your-heart-desires\" Operator\n",
    ]
    },
  {
   "cell_type": "markdown",
   "metadata": {},
   "source": [
    "# Introduction\n",
    "\n"
   ]
  },
  {
   "cell_type": "markdown",
   "metadata": {},
   "source": [
    "Today, we are excited to announce a Kubernetes Operator to increase Apache Airflow's viability as a job orchestration engine using the power of the Kubernetes cloud deployment framework. \n",
    "\n",
    "Since its inception, Airflow's power as a job orchestrator has been its flexibility. It offers a wide range of native operators (for services such as Spark, HBase, etc.), while also offering easy extensibility through its plugin framework. However, one limitation of the project is that...\n",
    "\n",
    "Over the next few months, we will be offering a series of Kubernetes-based offerings that will vastly expand Airflow's native capabilities. With the addition of a Kubernetes Operator, users will be able to launch arbitrary Docker containers with customizable resources, secrets, and..."
   ]
  },
  {
   "cell_type": "markdown",
   "metadata": {},
   "source": [
    "## What is Kubernetes?"
   ]
  },
  {
   "cell_type": "markdown",
   "metadata": {},
   "source": [
    "[Kubernetes](https://kubernetes.io/) is an open source container deployment engine released by Google. Based on Google's own [Borg](http://blog.kubernetes.io/2015/04/borg-predecessor-to-kubernetes.html) large-scale cluster management system, Kubernetes allows for easy deployment of images using a highly flexible API. Using Kubernetes you can [deploy Spark jobs](https://github.com/apache-spark-on-k8s/spark), launch end-to-end applications, or ... using YAML files, Python, [Go](https://golang.org), or Java bindings. The Kubernetes API's programmatic launching of containers seemed a perfect marriage with Airflow's \"code as configuration\" philosophy.\n",
    "\n"
   ]
  },
  {
   "cell_type": "markdown",
   "metadata": {},
   "source": [
    "# The Kubernetes Operator\n",
    "\n",
    "As DevOps pioneers, Airflow is always looking for ways to make deployments and ETL pipelines simpler to manage. Any opportunity to reduce the number of moving parts in our codebase will always lead to future opportunities to break in the future. The following is a list of benefits the Kubernetes Operator has in reducing the Airflow Engineer's footprint:\n",
    "\n",
    "* **Increased flexibility for deployments:** Airflow's plugin API has always offered a significant boon to engineers wishing to test new functionalities within their DAGS. On the downside, whenever a developer wanted to create a new operator, they had to develop an entirely new plugin. Now, any task that can be run within a Docker container is accessible through the exact same operator, with no extra Airflow code to maintain.\n",
    "* **Flexibility of configurations and dependencies:** For operators that are run within static Airflow workers, dependency management can become quite difficult. If I want to run one task that requires [SciPy[(https://www.scipy.org) and another that requires [NumPy](http://www.numpy.org), the developer would have to either maintain both dependencies within an Airflow worker or somehow configure ??\n",
    "* **Usage of [Kubernetes Secrets](https://kubernetes.io/docs/concepts/configuration/secret/) for added security:** Handling sensitive data is a core responsibility of any DevOps engineer. Airflow users always want to minimize access to API keys, database passwords, and login credentials to a strict need-to-know basis. With the Kubernetes Operator, users can utilize [Kubernetes Vault](https://github.com/Boostport/kubernetes-vault) to store all sensitive data. This means that the Airflow workers will never have access to this information and can simply request that pods are built with only the secrets they need."
   ]
  },
  {
   "cell_type": "markdown",
   "metadata": {
    "collapsed": true
   },
   "source": [
    "# Architecture\n",
    "\n",
    "<img src=\"architecture.png\">\n",
    "\n",
    "The Kubernetes Operator uses the [Kubernetes Python Client](https://github.com/kubernetes-client/python) to generate a request that is processed by the APIServer (1). Kubernetes will then launch your pod with whatever specs you've defined (2). Images will be loaded with all the necessary environment variables, secrets and dependencies, enacting a single command. Once the job is launched, the operator only needs to monitor the health of track logs (3). Users will have the choice of gathering logs locally to the scheduler or to any distributed logging service currently in their Kubernetes cluster.\n",
   ]
  },
  {
   "cell_type": "markdown",
   "metadata": {},
   "source": [
    "# Examples"
   ]
  },
  {
   "cell_type": "markdown",
   "metadata": {},
   "source": [
    "## Example 1: Running a basic container"
   ]
  },
  {
   "cell_type": "markdown",
   "metadata": {},
   "source": [
    "In this first example, let's create a basic Docker image that runs simple Python commands. This example will only have two end-results: succeed or fail."
   ]
  },
  {
   "cell_type": "markdown",
   "metadata": {},
   "source": [
    "To run this code, we'll create a Dockerfile and an `entrypoint.sh` file that will run our basic Python script (while this entrypoint script is pretty simple at the moment, we will see later how it can expand to accommodate more complex use cases). With the following [Dockerfile](https://github.com/dimberman/airflow-kubernetes-operator-example/blob/master/Dockerfile) and [entrypoint](https://github.com/dimberman/airflow-kubernetes-operator-example/blob/master/entrypoint.sh), we now have a working image to test!"
   ]
  },
  {
   "cell_type": "markdown",
   "metadata": {},
   "source": [
    "### Integrating into Airflow\n",
    "\n",
    "To test our new image, we create a simple Airflow DAG that will run two steps: passing and failing."
   ]
  },
  {
   "cell_type": "code",
   "execution_count": null,
   "metadata": {
    "collapsed": true
   },
   "outputs": [],
   "source": [
    "from airflow import DAG\n",
    "from datetime import datetime, timedelta\n",
    "from airflow.contrib.operators.kubernetes_pod_operator import KubernetesPodOperator\n",
    "from airflow.operators.dummy_operator import DummyOperator\n",
    "\n",
    "\n",
    "default_args = {\n",
    "    'owner': 'airflow',\n",
    "    'depends_on_past': False,\n",
    "    'start_date': datetime.utcnow(),\n",
    "    'email': ['airflow@example.com'],\n",
    "    'email_on_failure': False,\n",
    "    'email_on_retry': False,\n",
    "    'retries': 1,\n",
    "    'retry_delay': timedelta(minutes=5)\n",
    "}\n",
    "\n",
    "dag = DAG(\n",
    "    'kubernetes_sample', default_args=default_args, schedule_interval=timedelta(minutes=10))\n",
    "\n",
    "\n",
    "start = DummyOperator(task_id='run_this_first', dag=dag)\n",
    "\n",
    "passing = KubernetesPodOperator(namespace='default',\n",
    "                          image=\"airflow/ci:latest\",\n",
    "                          cmds=[\"python\",\"-c\"],\n",
    "                          arguments=[\"print('hello world')\"],\n",
    "                          labels={\"foo\": \"bar\"},\n",
    "                          name=\"passing-test\",\n",
    "                          task_id=\"passing-task\",\n",
    "                          get_logs=True,\n",
    "                          dag=dag\n",
    "                          )\n",
    "\n",
    "failing = KubernetesPodOperator(namespace='default',\n",
    "                          image=\"ubuntu:1604\",\n",
    "                          cmds=[\"python\",\"-c\"],\n",
    "                          arguments=[\"print('hello world')\"],\n",
    "                          labels={\"foo\": \"bar\"},\n",
    "                          name=\"fail\",\n",
    "                          task_id=\"failing-task\",\n",
    "                          get_logs=True,\n",
    "                          dag=dag\n",
    "                          )\n",
    "\n",
    "passing.set_upstream(start)\n",
    "failing.set_upstream(start)"
   ]
  },
  {
   "cell_type": "markdown",
   "metadata": {},
   "source": [
    "This will create two pods on Kubernetes: one that has Python and one that doesn't. The Python pod will run the Python request correctly, while the one without Python will report a failure to the user.\n",
    "\n",
    "<img src=\"files/image.png\">"
   ]
  },
  {
   "cell_type": "markdown",
   "metadata": {},
   "source": [
    "Link to github file"
   ]
  },
  {
   "cell_type": "markdown",
   "metadata": {},
   "source": [
    "## Example 2: Running a model using SciPy"
   ]
  },
  {
   "cell_type": "markdown",
   "metadata": {},
   "source": [
    "# Closing Statements"
   ]
  },
  {
   "cell_type": "markdown",
   "metadata": {},
   "source": [
    "Final statements about all the possibilities this opens up\n",
    "\n",
    "* Airflow Kubernetes Executor\n",
    "* Custom Deployments via Python API"
   ]
  }
 ],
 "metadata": {
  "kernelspec": {
   "display_name": "Python 3",
   "language": "python",
   "name": "python3"
  },
  "language_info": {
   "codemirror_mode": {
    "name": "ipython",
    "version": 3
   },
   "file_extension": ".py",
   "mimetype": "text/x-python",
   "name": "python",
   "nbconvert_exporter": "python",
   "pygments_lexer": "ipython3",
   "version": "3.6.3"
  }
 },
 "nbformat": 4,
 "nbformat_minor": 2
}
